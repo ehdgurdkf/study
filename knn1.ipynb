{
 "cells": [
  {
   "cell_type": "markdown",
   "metadata": {},
   "source": [
    "KNN(K-최근접 이웃 알고리즘)"
   ]
  },
  {
   "cell_type": "code",
   "execution_count": 1,
   "metadata": {},
   "outputs": [],
   "source": [
    "import numpy as np\n",
    "import pandas as pd\n",
    "import matplotlib.pyplot as plt"
   ]
  },
  {
   "cell_type": "code",
   "execution_count": 2,
   "metadata": {},
   "outputs": [],
   "source": [
    "A_x_list = [0,2,4,1,1,4]\n",
    "A_y_list = [4,1,5,5,2,6]\n",
    "A_x = np.array(A_x_list)\n",
    "A_y = np.array(A_y_list)\n",
    " \n",
    "B_x_list = [7,7,5,7,10,9]\n",
    "B_y_list = [4,0,2,2,3,3]\n",
    "B_x = np.array(B_x_list)\n",
    "B_y = np.array(B_y_list)"
   ]
  },
  {
   "cell_type": "code",
   "execution_count": 3,
   "metadata": {},
   "outputs": [],
   "source": [
    "finding_point = [5,4]"
   ]
  },
  {
   "cell_type": "code",
   "execution_count": 4,
   "metadata": {},
   "outputs": [
    {
     "data": {
      "image/png": "[encoded data removed]",
      "text/plain": [
       "<Figure size 432x288 with 1 Axes>"
      ]
     },
     "metadata": {
      "needs_background": "light"
     },
     "output_type": "display_data"
    }
   ],
   "source": [
    "plt.figure()\n",
    "plt.scatter(A_x,A_y)\n",
    "plt.scatter(B_x,B_y)\n",
    "plt.scatter(finding_point[0],finding_point[1], marker='*')\n",
    " \n",
    "plt.show()"
   ]
  },
  {
   "cell_type": "code",
   "execution_count": 5,
   "metadata": {},
   "outputs": [],
   "source": [
    "# L리스트에서 c번째 작은 값 찾는 함수\n",
    "def count_min_value(L,c):\n",
    "    temp = L.copy()\n",
    "    temp.sort()\n",
    "    item = temp[c-1]\n",
    "    return L.index(item),item\n",
    " \n",
    "# 입력값이 A그룹인지 B그룹인지 찾는 함수::KNN Algorithm 적용\n",
    "def finding_AorB(k,x,y):\n",
    "    numA = 0\n",
    "    numB = 0\n",
    "    A_xy = []\n",
    "    B_xy = []\n",
    "    # x,y 좌표가 따로 있는 것을 하나의 리스트로 통합\n",
    "    for i in range(len(A_x_list)):\n",
    "        A_xy.append([A_x_list[i],A_y_list[i]])\n",
    "    for i in range(len(B_x_list)):\n",
    "        B_xy.append([B_x_list[i],B_y_list[i]])\n",
    " \n",
    "    A_distance = []\n",
    "    B_distance = []\n",
    "    # x,y 좌표에 대해 입력값과의 거리 산출\n",
    "    for each in A_xy:\n",
    "        dis = ((each[0] - x)**2 + (each[1] - y)**2)**(1/2)\n",
    "        A_distance.append(dis)\n",
    "    for each in B_xy:\n",
    "        dis = ((each[0] - x)**2 + (each[1] - y)**2)**(1/2)\n",
    "        B_distance.append(dis)\n",
    "    A_result = []\n",
    "    B_result = []\n",
    "    \n",
    "    A_min_count = 1\n",
    "    B_min_count = 1\n",
    "    while(numA + numB < k):\n",
    "        min_A = 99999\n",
    "        min_B = 99999\n",
    " \n",
    "        _, min_A = count_min_value(A_distance,A_min_count)\n",
    "        _, min_B = count_min_value(B_distance,B_min_count)\n",
    " \n",
    "        if min_A < min_B:\n",
    "            numA += 1\n",
    "            A_min_count += 1\n",
    "            A_result.append(A_xy[A_distance.index(min_A)])\n",
    "            A_distance[A_distance.index(min_A)] = -1\n",
    "        elif min_A > min_B:\n",
    "            numB += 1\n",
    "            B_min_count += 1\n",
    "            B_result.append(B_xy[B_distance.index(min_B)])\n",
    "            B_distance[B_distance.index(min_B)] = -1\n",
    "        elif min_A == min_B:\n",
    "            numA += 1\n",
    "            numB += 1\n",
    "            A_min_count += 1\n",
    "            B_min_count += 1\n",
    "            A_result.append(A_xy[A_distance.index(min_A)])\n",
    "            A_distance[A_distance.index(min_A)] = -1\n",
    "            B_result.append(B_xy[B_distance.index(min_B)])\n",
    "            B_distance[B_distance.index(min_B)] = -1\n",
    "    if numA > numB:\n",
    "        print(\"RESULT: The point is A\")\n",
    "    elif numA < numB:\n",
    "        print(\"RESULT, The point is B\")\n",
    "    elif numA == numB:\n",
    "        print(\"I DON'T KNOW\")\n",
    "    print(\"A point is\",A_result,\"\\nB point is\",B_result,\"\\n\")"
   ]
  },
  {
   "cell_type": "code",
   "execution_count": 6,
   "metadata": {},
   "outputs": [
    {
     "name": "stdout",
     "output_type": "stream",
     "text": [
      "k=1\n",
      "RESULT: The point is A\n",
      "A point is [[4, 5]] \n",
      "B point is [] \n",
      "\n",
      "k=2\n",
      "I DON'T KNOW\n",
      "A point is [[4, 5]] \n",
      "B point is [[7, 4]] \n",
      "\n",
      "k=3\n",
      "RESULT, The point is B\n",
      "A point is [[4, 5]] \n",
      "B point is [[7, 4], [5, 2]] \n",
      "\n",
      "k=4\n",
      "I DON'T KNOW\n",
      "A point is [[4, 5], [4, 6]] \n",
      "B point is [[7, 4], [5, 2]] \n",
      "\n"
     ]
    }
   ],
   "source": [
    "for k in range(1, 5):\n",
    "    print(f'k={k}')\n",
    "    finding_AorB(k,finding_point[0],finding_point[1])"
   ]
  },
  {
   "cell_type": "markdown",
   "metadata": {},
   "source": [
    "k=1"
   ]
  },
  {
   "cell_type": "code",
   "execution_count": 42,
   "metadata": {},
   "outputs": [
    {
     "data": {
      "image/png": "[encoded data removed]",
      "text/plain": [
       "<Figure size 432x288 with 1 Axes>"
      ]
     },
     "metadata": {
      "needs_background": "light"
     },
     "output_type": "display_data"
    }
   ],
   "source": [
    "circle_center = (5,4)\n",
    "circle_radius = 1.414\n",
    "\n",
    "c = plt.Circle(circle_center,circle_radius,fc='b',alpha = 0.1,ec='black')\n",
    "\n",
    "a = plt.axes(xlim=(0,11),ylim=(-1,7))\n",
    "a.add_patch(c)\n",
    "a.set_aspect('equal')\n",
    "\n",
    "plt.scatter(A_x,A_y)\n",
    "plt.scatter(B_x,B_y)\n",
    "plt.scatter(finding_point[0],finding_point[1], marker='*')\n",
    "\n",
    "plt.show()"
   ]
  },
  {
   "cell_type": "markdown",
   "metadata": {},
   "source": [
    "k=2"
   ]
  },
  {
   "cell_type": "code",
   "execution_count": 43,
   "metadata": {},
   "outputs": [
    {
     "data": {
      "image/png": "[encoded data removed]",
      "text/plain": [
       "<Figure size 432x288 with 1 Axes>"
      ]
     },
     "metadata": {
      "needs_background": "light"
     },
     "output_type": "display_data"
    }
   ],
   "source": [
    "circle_center = (5,4)\n",
    "circle_radius = 2\n",
    "\n",
    "c = plt.Circle(circle_center,circle_radius,fc='b',alpha = 0.1,ec='black')\n",
    "\n",
    "a = plt.axes(xlim=(0,11),ylim=(-1,7))\n",
    "a.add_patch(c)\n",
    "a.set_aspect('equal')\n",
    "\n",
    "plt.scatter(A_x,A_y)\n",
    "plt.scatter(B_x,B_y)\n",
    "plt.scatter(finding_point[0],finding_point[1], marker='*')\n",
    "\n",
    "plt.show()"
   ]
  },
  {
   "cell_type": "markdown",
   "metadata": {},
   "source": [
    "k=3"
   ]
  },
  {
   "cell_type": "code",
   "execution_count": 45,
   "metadata": {},
   "outputs": [
    {
     "data": {
      "image/png": "[encoded data removed]",
      "text/plain": [
       "<Figure size 432x288 with 1 Axes>"
      ]
     },
     "metadata": {
      "needs_background": "light"
     },
     "output_type": "display_data"
    }
   ],
   "source": [
    "circle_center = (5,4)\n",
    "circle_radius = 2\n",
    "\n",
    "c = plt.Circle(circle_center,circle_radius,fc='b',alpha = 0.1,ec='black')\n",
    "\n",
    "a = plt.axes(xlim=(0,11),ylim=(-1,7))\n",
    "a.add_patch(c)\n",
    "a.set_aspect('equal')\n",
    "\n",
    "plt.scatter(A_x,A_y)\n",
    "plt.scatter(B_x,B_y)\n",
    "plt.scatter(finding_point[0],finding_point[1], marker='*')\n",
    "\n",
    "plt.show()"
   ]
  },
  {
   "cell_type": "markdown",
   "metadata": {},
   "source": [
    "k = 4"
   ]
  },
  {
   "cell_type": "code",
   "execution_count": 48,
   "metadata": {},
   "outputs": [
    {
     "data": {
      "image/png": "[encoded data removed]",
      "text/plain": [
       "<Figure size 432x288 with 1 Axes>"
      ]
     },
     "metadata": {
      "needs_background": "light"
     },
     "output_type": "display_data"
    }
   ],
   "source": [
    "circle_center = (5,4)\n",
    "circle_radius = 2.2\n",
    "\n",
    "c = plt.Circle(circle_center,circle_radius,fc='b',alpha = 0.1,ec='black')\n",
    "\n",
    "a = plt.axes(xlim=(0,11),ylim=(-1,7))\n",
    "a.add_patch(c)\n",
    "a.set_aspect('equal')\n",
    "\n",
    "plt.scatter(A_x,A_y)\n",
    "plt.scatter(B_x,B_y)\n",
    "plt.scatter(finding_point[0],finding_point[1], marker='*')\n",
    "\n",
    "plt.show()"
   ]
  },
  {
   "cell_type": "code",
   "execution_count": null,
   "metadata": {},
   "outputs": [],
   "source": []
  }
 ],
 "metadata": {
  "kernelspec": {
   "display_name": "Python 3",
   "language": "python",
   "name": "python3"
  },
  "language_info": {
   "codemirror_mode": {
    "name": "ipython",
    "version": 3
   },
   "file_extension": ".py",
   "mimetype": "text/x-python",
   "name": "python",
   "nbconvert_exporter": "python",
   "pygments_lexer": "ipython3",
   "version": "3.7.6"
  }
 },
 "nbformat": 4,
 "nbformat_minor": 2
}
